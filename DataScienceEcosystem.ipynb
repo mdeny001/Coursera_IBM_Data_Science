{
 "cells": [
  {
   "cell_type": "markdown",
   "id": "7da60819-801c-4c41-9551-452c0b6b6e21",
   "metadata": {},
   "source": [
    "# Data Science Tools and Ecosystem"
   ]
  },
  {
   "cell_type": "markdown",
   "id": "1b98821d-df19-4daf-9664-6060bb448c05",
   "metadata": {},
   "source": [
    "In this notebook, Data Science Tools and Ecosystems are summarized."
   ]
  },
  {
   "cell_type": "markdown",
   "id": "688fd176-18e9-40e5-a082-db071e4ee412",
   "metadata": {},
   "source": [
    "<b>Objectives:</b>\n",
    "<ul>\n",
    "    <li>Define What Programming Languages Data Scientist Use</li>\n",
    "    <li>Define Common Programming Libraries Data Scientist Use</li>\n",
    "    <li>Provide A Non-Inclusive List of Tools Data Scientist Use</li>\n",
    "    <li>Provide A Small Sample of Python Code</li>\n",
    "</ul>"
   ]
  },
  {
   "cell_type": "markdown",
   "id": "30aaf24c-1dbe-40ba-8846-9591de683684",
   "metadata": {},
   "source": [
    "<h2>Author:</h2> \n",
    "Denyszyn"
   ]
  },
  {
   "cell_type": "markdown",
   "id": "a5e0213f-ea6c-4989-81b7-aed3f3d41295",
   "metadata": {},
   "source": [
    "Some of the popular languages that Data Scientists use are:\n",
    "<ol>\n",
    "    <li>Python</li>\n",
    "    <li>R</li>\n",
    "    <li>SQL</li>\n",
    "    <li>MATLAB</li>\n",
    "</ol>\n"
   ]
  },
  {
   "cell_type": "markdown",
   "id": "4a22185b-2e83-4911-a8d6-ab9436f8220e",
   "metadata": {},
   "source": [
    "Some of the commonly used libraries used by Data Scientists include:\n",
    "<ol>\n",
    "    <li>NumPy</li>\n",
    "    <li>Pandas</li>\n",
    "    <li>Scikit-learn</li>\n",
    "    <li>SciPy</li>\n",
    "<ol>\n",
    "    "
   ]
  },
  {
   "cell_type": "markdown",
   "id": "6133ca60-e189-420b-b31e-f3212f620193",
   "metadata": {},
   "source": [
    "<table>\n",
    "<tr>\n",
    "    <th>Data Science Tools<th>\n",
    "</tr>\n",
    "<tr>\n",
    "    <td>Microsoft Visual Studio Code</td>\n",
    "</tr>\n",
    "<tr>\n",
    "    <td>Jupyter Notebook</td>\n",
    "</tr>\n",
    "<tr>\n",
    "    <td>R Studio</td>\n",
    "</tr>\n",
    "    "
   ]
  },
  {
   "cell_type": "markdown",
   "id": "2f1d1d0a-27b8-4b74-8da6-80f624e1d5e7",
   "metadata": {},
   "source": [
    "### Below are a few examples of evaluating arithmetic expressions in Python."
   ]
  },
  {
   "cell_type": "code",
   "execution_count": 3,
   "id": "1cca4be7-895d-440f-bf0c-50618758ae5b",
   "metadata": {
    "tags": []
   },
   "outputs": [
    {
     "data": {
      "text/plain": [
       "17"
      ]
     },
     "execution_count": 3,
     "metadata": {},
     "output_type": "execute_result"
    }
   ],
   "source": [
    "# This is a simple arithmetic expression to multiple then add integers\n",
    "(3*4)+5"
   ]
  },
  {
   "cell_type": "code",
   "execution_count": 5,
   "id": "7fc68720-ef6c-4d89-9b37-b24853a66e32",
   "metadata": {
    "tags": []
   },
   "outputs": [
    {
     "data": {
      "text/plain": [
       "3.3333333333333335"
      ]
     },
     "execution_count": 5,
     "metadata": {},
     "output_type": "execute_result"
    }
   ],
   "source": [
    "# This code will convert 200 minutes to hours by dividing by 60\n",
    "200/60 "
   ]
  },
  {
   "cell_type": "code",
   "execution_count": null,
   "id": "d95eb393-4b1c-4102-b608-9bd186b3c901",
   "metadata": {},
   "outputs": [],
   "source": []
  }
 ],
 "metadata": {
  "kernelspec": {
   "display_name": "Python",
   "language": "python",
   "name": "conda-env-python-py"
  },
  "language_info": {
   "codemirror_mode": {
    "name": "ipython",
    "version": 3
   },
   "file_extension": ".py",
   "mimetype": "text/x-python",
   "name": "python",
   "nbconvert_exporter": "python",
   "pygments_lexer": "ipython3",
   "version": "3.7.12"
  }
 },
 "nbformat": 4,
 "nbformat_minor": 5
}
